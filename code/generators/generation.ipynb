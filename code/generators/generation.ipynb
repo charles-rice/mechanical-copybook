{
 "cells": [
  {
   "cell_type": "code",
   "execution_count": 1,
   "metadata": {
    "collapsed": true
   },
   "outputs": [],
   "source": [
    "import pandas as pd\n",
    "import numpy as np"
   ]
  },
  {
   "cell_type": "markdown",
   "metadata": {},
   "source": [
    "Sources:   \n",
    "https://brett.is/writing/about/generator-pipelines-in-python/  \n",
    "         https://nedbatchelder.com/text/iter.html  \n",
    "         http://www.dabeaz.com/generators-uk/index.html  \n",
    "         https://stackoverflow.com/questions/37473770/processing-lines-of-text-file-between-two-marker-lines"
   ]
  },
  {
   "cell_type": "code",
   "execution_count": null,
   "metadata": {
    "collapsed": true
   },
   "outputs": [],
   "source": [
    "## Model code\n",
    "# def gen1():\n",
    "#     with open('hugedata.txt') as f:\n",
    "#         for line in f:\n",
    "#             yield line    \n",
    "# g = gen1()    \n",
    "# g2 = (process(x) for x in g)\n",
    "# for x in g2:\n",
    "#     print x"
   ]
  },
  {
   "cell_type": "markdown",
   "metadata": {
    "collapsed": true
   },
   "source": [
    "\n",
    "15 Feb 18 -- We want to look at a file, line by line, and automate the process of getting rid of junk.\n",
    "What constitutes 'junk'?  \n",
    "\n",
    "Well, anything taht isn't work by our author. \n",
    "- Anything between brackets [], which are not in general use except by editors\n",
    "- Unicode errors/problems\n",
    "- Excessive white space\n",
    "- All the gutenberg boilerplate (maybe some other time)\n",
    "\n",
    "21 Feb 2018 -- Pseudocode  \n",
    "```For line in text:  \n",
    "    if line is clean:  \n",
    "        write line to file  \n",
    "    else:  \n",
    "        clean line  \n",
    "        write line to file```"
   ]
  },
  {
   "cell_type": "code",
   "execution_count": 2,
   "metadata": {
    "collapsed": true
   },
   "outputs": [],
   "source": [
    "path = 'catiline.txt'"
   ]
  },
  {
   "cell_type": "code",
   "execution_count": 3,
   "metadata": {
    "collapsed": true
   },
   "outputs": [],
   "source": [
    "t = open(path, 'r') # open the file for reading\n",
    "dest = open('clean_' + path, 'w')"
   ]
  },
  {
   "cell_type": "code",
   "execution_count": null,
   "metadata": {
    "collapsed": true
   },
   "outputs": [],
   "source": [
    "def view(t):\n",
    "    for L in t:\n",
    "        yield L"
   ]
  },
  {
   "cell_type": "code",
   "execution_count": null,
   "metadata": {},
   "outputs": [],
   "source": [
    "def evaluate(line):\n",
    "    print(line)\n",
    "    k = input('Clean? ')\n",
    "    if k != 'n':\n",
    "        dest.write(line)"
   ]
  },
  {
   "cell_type": "code",
   "execution_count": null,
   "metadata": {
    "collapsed": true
   },
   "outputs": [],
   "source": [
    "t.close()\n",
    "dest.close()"
   ]
  },
  {
   "cell_type": "code",
   "execution_count": null,
   "metadata": {
    "collapsed": true
   },
   "outputs": [],
   "source": []
  },
  {
   "cell_type": "code",
   "execution_count": null,
   "metadata": {
    "collapsed": true
   },
   "outputs": [],
   "source": [
    "# next(view(get_path())) ## See what this would actually do. Turns out, not much without a 'next'"
   ]
  },
  {
   "cell_type": "code",
   "execution_count": null,
   "metadata": {
    "collapsed": true
   },
   "outputs": [],
   "source": [
    "# def keeper(L):\n",
    "#     with open('clean_' + path, 'a') as f:\n",
    "#         print(L)\n",
    "#         k = input(\"Keep this line? \")\n",
    "#         if k == 'y' or k == 'yes':\n",
    "#             f.write(L)\n",
    "#         else:\n",
    "#             pass\n",
    "        "
   ]
  },
  {
   "cell_type": "code",
   "execution_count": null,
   "metadata": {
    "collapsed": true
   },
   "outputs": [],
   "source": [
    "# path = 'cthulu.txt'"
   ]
  },
  {
   "cell_type": "code",
   "execution_count": null,
   "metadata": {
    "collapsed": true
   },
   "outputs": [],
   "source": [
    "# keeper(path)"
   ]
  },
  {
   "cell_type": "code",
   "execution_count": null,
   "metadata": {
    "collapsed": true
   },
   "outputs": [],
   "source": [
    "# view(get_path())"
   ]
  },
  {
   "cell_type": "code",
   "execution_count": null,
   "metadata": {
    "collapsed": true
   },
   "outputs": [],
   "source": [
    "# # This works, but does not use generators\n",
    "# def cleaner():\n",
    "#     path = input(\"File to clean? \")\n",
    "#     with open(path, encoding='UTF-8') as r:\n",
    "#         with open('clean_' + path, 'a') as c:\n",
    "#             for L in r:\n",
    "#                 print(L)\n",
    "#                 k = input(\"Keep this line? \")\n",
    "#                 if k != 'n':\n",
    "#                     c.write(L)"
   ]
  },
  {
   "cell_type": "code",
   "execution_count": null,
   "metadata": {
    "collapsed": true
   },
   "outputs": [],
   "source": [
    "# # # Example code from: https://brett.is/writing/about/generator-pipelines-in-python/\n",
    "# def even_filter(nums):\n",
    "#     for num in nums:\n",
    "#         if num % 2 == 0:\n",
    "#             yield num\n",
    "# def multiply_by_three(nums):\n",
    "#     for num in nums:\n",
    "#         yield num * 3\n",
    "# def convert_to_string(nums):\n",
    "#     for num in nums:\n",
    "#         yield 'The Number: %s' % num\n",
    "\n",
    "# nums = [1, 2, 3, 4, 5, 6, 7, 8, 9, 10]\n",
    "# pipeline = convert_to_string(multiply_by_three(even_filter(nums)))\n",
    "\n",
    "# pipeline\n",
    "\n",
    "# for num in pipeline:\n",
    "#     print(num)"
   ]
  },
  {
   "cell_type": "markdown",
   "metadata": {},
   "source": [
    "The lesson here is that pipelines are iterators. They produce an object that must be iterated over in order to do what you want them to do."
   ]
  },
  {
   "cell_type": "code",
   "execution_count": null,
   "metadata": {
    "collapsed": true
   },
   "outputs": [],
   "source": [
    "path = 'cthulu.txt' #Yes, I know it's not spelled correctly"
   ]
  },
  {
   "cell_type": "code",
   "execution_count": null,
   "metadata": {
    "collapsed": true
   },
   "outputs": [],
   "source": [
    "# # Function to manually (humanly?) evaluate each line to the file 'clean_'\n",
    "# def keeper(L):\n",
    "#     with open('clean_' + path, 'a') as f:\n",
    "#         print(L)\n",
    "#         k = input(\"Keep this line? \")\n",
    "#         if k == 'y' or k == 'yes':\n",
    "#             f.write(L)\n",
    "#         else:\n",
    "#             pass\n",
    "        \n",
    "\n",
    "# # Function purely to view each line\n",
    "# def view(path):\n",
    "#     with open(path, encoding='UTF-8') as f:\n",
    "#         for L in f:\n",
    "#             yield L\n",
    "\n",
    "# for i in view(path):\n",
    "#     print(i)\n",
    "#     k = input(\"Keep this line? \")\n",
    "#     if k != 'n':\n",
    "#         with open('clean_' + path, 'a') as w:\n",
    "#             w.write(i)\n",
    "        \n",
    "\n",
    "# def keep(path):\n",
    "#     with open('clean_' + path, 'a') as w:\n",
    "#         k = input(\"Keep this line? \")\n",
    "#         if k != 'n':\n",
    "#             w.write(L)\n",
    "#         else:\n",
    "#             pass\n",
    "\n",
    "# # view(path)"
   ]
  },
  {
   "cell_type": "code",
   "execution_count": null,
   "metadata": {
    "collapsed": true
   },
   "outputs": [],
   "source": [
    "class textProcessor(object): # create the object; model code from writes/about\n",
    "    \n",
    "    def __init__(self, text):\n",
    "        self._text = text # this is the text to-be-processed\n",
    "        self._processors = [] # this is the several processors that will be used\n",
    "    \n",
    "    def add_proc(self, new_processor):\n",
    "        if callable(new_processor):\n",
    "            self._processors.append(new_processor) # And this is how we add new ones into the overall class"
   ]
  },
  {
   "cell_type": "code",
   "execution_count": null,
   "metadata": {
    "collapsed": true
   },
   "outputs": [],
   "source": []
  }
 ],
 "metadata": {
  "kernelspec": {
   "display_name": "Python 3",
   "language": "python",
   "name": "python3"
  },
  "language_info": {
   "codemirror_mode": {
    "name": "ipython",
    "version": 3
   },
   "file_extension": ".py",
   "mimetype": "text/x-python",
   "name": "python",
   "nbconvert_exporter": "python",
   "pygments_lexer": "ipython3",
   "version": "3.6.3"
  }
 },
 "nbformat": 4,
 "nbformat_minor": 2
}
