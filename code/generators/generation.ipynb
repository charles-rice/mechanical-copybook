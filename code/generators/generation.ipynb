{
 "cells": [
  {
   "cell_type": "code",
   "execution_count": 2,
   "metadata": {
    "collapsed": true
   },
   "outputs": [],
   "source": [
    "import pandas as pd\n",
    "import numpy as np"
   ]
  },
  {
   "cell_type": "markdown",
   "metadata": {},
   "source": [
    "Sources: https://brett.is/writing/about/generator-pipelines-in-python/\n",
    "         https://nedbatchelder.com/text/iter.html\n",
    "         http://www.dabeaz.com/generators-uk/index.html\n",
    "         https://stackoverflow.com/questions/37473770/processing-lines-of-text-file-between-two-marker-lines"
   ]
  },
  {
   "cell_type": "code",
   "execution_count": null,
   "metadata": {
    "collapsed": true
   },
   "outputs": [],
   "source": [
    "## Model code\n",
    "# def gen1():\n",
    "#     with open('hugedata.txt') as f:\n",
    "#         for line in f:\n",
    "#             yield line    \n",
    "# g = gen1()    \n",
    "# g2 = (process(x) for x in g)\n",
    "# for x in g2:\n",
    "#     print x"
   ]
  },
  {
   "cell_type": "code",
   "execution_count": 21,
   "metadata": {
    "collapsed": true
   },
   "outputs": [],
   "source": [
    "def get_path():\n",
    "    path = input('File to clean? ')\n",
    "    return path"
   ]
  },
  {
   "cell_type": "code",
   "execution_count": 22,
   "metadata": {},
   "outputs": [
    {
     "name": "stdout",
     "output_type": "stream",
     "text": [
      "File to clean? catiline.txt\n"
     ]
    },
    {
     "data": {
      "text/plain": [
       "'catiline.txt'"
      ]
     },
     "execution_count": 22,
     "metadata": {},
     "output_type": "execute_result"
    }
   ],
   "source": [
    "get_path()"
   ]
  },
  {
   "cell_type": "code",
   "execution_count": 24,
   "metadata": {
    "collapsed": true
   },
   "outputs": [],
   "source": [
    "def view(path):\n",
    "    with open(path, encoding='UTF-8') as f:\n",
    "        for L in f:\n",
    "            yield L"
   ]
  },
  {
   "cell_type": "code",
   "execution_count": 28,
   "metadata": {
    "collapsed": true
   },
   "outputs": [],
   "source": [
    "# next(view(get_path())) ## See what this would actually do. Turns out, not much without a 'next'"
   ]
  },
  {
   "cell_type": "code",
   "execution_count": 29,
   "metadata": {
    "collapsed": true
   },
   "outputs": [],
   "source": [
    "def keeper(L):\n",
    "    with open('clean_' + path, 'a') as f:\n",
    "        print(L)\n",
    "        k = input(\"Keep this line? \")\n",
    "        if k == 'y' or k == 'yes':\n",
    "            f.write(L)\n",
    "        else:\n",
    "            pass\n",
    "        "
   ]
  },
  {
   "cell_type": "code",
   "execution_count": 11,
   "metadata": {
    "collapsed": true
   },
   "outputs": [],
   "source": [
    "path = 'cthulu.txt'"
   ]
  },
  {
   "cell_type": "code",
   "execution_count": 34,
   "metadata": {
    "collapsed": true
   },
   "outputs": [],
   "source": [
    "# keeper(path)"
   ]
  },
  {
   "cell_type": "code",
   "execution_count": 35,
   "metadata": {
    "collapsed": true
   },
   "outputs": [],
   "source": [
    "# view(get_path())"
   ]
  },
  {
   "cell_type": "code",
   "execution_count": 46,
   "metadata": {
    "collapsed": true
   },
   "outputs": [],
   "source": [
    "# # This works, but does not use generators\n",
    "# def cleaner():\n",
    "#     path = input(\"File to clean? \")\n",
    "#     with open(path, encoding='UTF-8') as r:\n",
    "#         with open('clean_' + path, 'a') as c:\n",
    "#             for L in r:\n",
    "#                 print(L)\n",
    "#                 k = input(\"Keep this line? \")\n",
    "#                 if k != 'n':\n",
    "#                     c.write(L)"
   ]
  },
  {
   "cell_type": "code",
   "execution_count": null,
   "metadata": {
    "collapsed": true
   },
   "outputs": [],
   "source": [
    "# # # Example code from: https://brett.is/writing/about/generator-pipelines-in-python/\n",
    "# def even_filter(nums):\n",
    "#     for num in nums:\n",
    "#         if num % 2 == 0:\n",
    "#             yield num\n",
    "# def multiply_by_three(nums):\n",
    "#     for num in nums:\n",
    "#         yield num * 3\n",
    "# def convert_to_string(nums):\n",
    "#     for num in nums:\n",
    "#         yield 'The Number: %s' % num\n",
    "\n",
    "# nums = [1, 2, 3, 4, 5, 6, 7, 8, 9, 10]\n",
    "# pipeline = convert_to_string(multiply_by_three(even_filter(nums)))\n",
    "\n",
    "# pipeline\n",
    "\n",
    "# for num in pipeline:\n",
    "#     print(num)"
   ]
  },
  {
   "cell_type": "markdown",
   "metadata": {},
   "source": [
    "The lesson here is that pipelines are iterators. They produce an object that must be iterated over in order to do what you want them to do."
   ]
  },
  {
   "cell_type": "code",
   "execution_count": 18,
   "metadata": {
    "collapsed": true
   },
   "outputs": [],
   "source": [
    "path = 'cthulu.txt' #Yes, I know it's not spelled correctly"
   ]
  },
  {
   "cell_type": "code",
   "execution_count": null,
   "metadata": {
    "collapsed": true
   },
   "outputs": [],
   "source": [
    "# Function to manually (humanly?) evaluate each line to the file 'clean_'\n",
    "def keeper(L):\n",
    "    with open('clean_' + path, 'a') as f:\n",
    "        print(L)\n",
    "        k = input(\"Keep this line? \")\n",
    "        if k == 'y' or k == 'yes':\n",
    "            f.write(L)\n",
    "        else:\n",
    "            pass\n",
    "        "
   ]
  },
  {
   "cell_type": "code",
   "execution_count": 19,
   "metadata": {
    "collapsed": true
   },
   "outputs": [],
   "source": [
    "# Function purely to view each line\n",
    "def view(path):\n",
    "    with open(path, encoding='UTF-8') as f:\n",
    "        for L in f:\n",
    "            yield L"
   ]
  },
  {
   "cell_type": "code",
   "execution_count": 20,
   "metadata": {},
   "outputs": [
    {
     "name": "stdout",
     "output_type": "stream",
     "text": [
      "Ph'nglui mglw'nafh Cthulhu R'lyeh wgah'nagl fhtagn. Y'hah f'Shub-Niggurath,\n",
      "\n",
      "Keep this line? y\n",
      "ya h'vulgtm hafh'drn R'lyeh orr'e ah nw, 'ai kadishtu chtenff hlirgh vulgtm\n",
      "\n",
      "Keep this line? n\n",
      "fhtagn.\n",
      "\n",
      "Keep this line? \n",
      "Naflnglui shagg mg llll bug namnahn' kn'a shogg ngli'hee shtunggli, hlirghor ch'\n",
      "\n",
      "Keep this line? \n",
      "nnnn'ghft n'ghft mnahn' uh'e fm'latgh li'heeagl hlirgh, lloig bug vulgtlagln\n",
      "\n",
      "Keep this line? \n",
      "fhtagn n'ghft li'hee ch' y'hah.\n",
      "\n",
      "Keep this line? \n",
      "Geb ah gnaiih Chaugnar Faugn y-hrii nauh'e nilgh'ri gof'nn shogg Hasturagl\n",
      "\n",
      "Keep this line? \n",
      "ph'goka, shagg athg s'uhn hafh'drn shugg ep chtenff h'ah tharanakyar na'bthnk,\n",
      "\n",
      "Keep this line? \n",
      "hafh'drn throd sll'ha gnaiih Chaugnar Faugn r'luh gebor shtunggli vulgtm.\n",
      "\n",
      "Keep this line? n\n",
      "Uaaah h'geb ch'or kadishtu shtunggli kn'a uh'e throd nog hrii chtenff Dagon\n",
      "\n",
      "Keep this line? n\n",
      "wgah'n, lw'nafh nilgh'ri r'luh ehye sgn'wahl nafluh'e nw kadishtu h'geb nageb.  \n",
      "\n",
      "Keep this line? n\n"
     ]
    }
   ],
   "source": [
    "for i in view(path):\n",
    "    print(i)\n",
    "    k = input(\"Keep this line? \")\n",
    "    if k != 'n':\n",
    "        with open('clean_' + path, 'a') as w:\n",
    "            w.write(i)\n",
    "        "
   ]
  },
  {
   "cell_type": "code",
   "execution_count": 10,
   "metadata": {
    "collapsed": true
   },
   "outputs": [],
   "source": [
    "def keep(path):\n",
    "    with open('clean_' + path, 'a') as w:\n",
    "        k = input(\"Keep this line? \")\n",
    "        if k != 'n':\n",
    "            w.write(L)\n",
    "        else:\n",
    "            pass"
   ]
  },
  {
   "cell_type": "code",
   "execution_count": 6,
   "metadata": {},
   "outputs": [
    {
     "data": {
      "text/plain": [
       "<generator object view at 0x113d649e8>"
      ]
     },
     "execution_count": 6,
     "metadata": {},
     "output_type": "execute_result"
    }
   ],
   "source": [
    "view(path)"
   ]
  },
  {
   "cell_type": "code",
   "execution_count": 2,
   "metadata": {
    "collapsed": true
   },
   "outputs": [],
   "source": [
    "class textProcessor(object): # create the object\n",
    "    \n",
    "    def __init__(self, text):\n",
    "        self._text = text # this is the text to-be-processed\n",
    "        self._processors = [] # this is the several processors that will be used\n",
    "    \n",
    "    def add_proc(self, new_processor):\n",
    "        if callable(new_processor):\n",
    "            self._processors.append(new_processor) # And this is how we add new ones into the overall class"
   ]
  },
  {
   "cell_type": "code",
   "execution_count": null,
   "metadata": {},
   "outputs": [],
   "source": []
  },
  {
   "cell_type": "code",
   "execution_count": null,
   "metadata": {
    "collapsed": true
   },
   "outputs": [],
   "source": []
  }
 ],
 "metadata": {
  "kernelspec": {
   "display_name": "Python 3",
   "language": "python",
   "name": "python3"
  },
  "language_info": {
   "codemirror_mode": {
    "name": "ipython",
    "version": 3
   },
   "file_extension": ".py",
   "mimetype": "text/x-python",
   "name": "python",
   "nbconvert_exporter": "python",
   "pygments_lexer": "ipython3",
   "version": "3.6.3"
  }
 },
 "nbformat": 4,
 "nbformat_minor": 2
}
